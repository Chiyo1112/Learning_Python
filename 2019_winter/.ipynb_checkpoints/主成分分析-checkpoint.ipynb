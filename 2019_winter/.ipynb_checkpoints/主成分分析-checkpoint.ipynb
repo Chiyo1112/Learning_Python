{
 "cells": [
  {
   "cell_type": "markdown",
   "metadata": {},
   "source": [
    "# Prepare"
   ]
  },
  {
   "cell_type": "markdown",
   "metadata": {},
   "source": [
    "## import"
   ]
  },
  {
   "cell_type": "code",
   "execution_count": 1,
   "metadata": {},
   "outputs": [],
   "source": [
    "from nptdms import TdmsFile\n",
    "import numpy as np\n",
    "import pandas as pd"
   ]
  },
  {
   "cell_type": "markdown",
   "metadata": {},
   "source": [
    "## set file path"
   ]
  },
  {
   "cell_type": "code",
   "execution_count": 2,
   "metadata": {},
   "outputs": [],
   "source": [
    "#set Tdms file path\n",
    "tdms20190513_01_01 = TdmsFile(r'D:\\data\\20190513\\01\\Acc 05-13-19 时间 100515.tdms')\n",
    "tdms20190513_01_02 = TdmsFile(r'D:\\data\\20190513\\01\\Acc 05-13-19 时间 100615.tdms')\n",
    "tdms20190513_01_03 = TdmsFile(r'D:\\data\\20190513\\01\\Acc 05-13-19 时间 100715.tdms')\n",
    "tdms20190513_01_04 = TdmsFile(r'D:\\data\\20190513\\01\\Acc 05-13-19 时间 100816.tdms')\n",
    "\n",
    "tdms20190513_01_11 = TdmsFile(r'D:\\data\\20190513\\01\\Current&Volage 05-13-19 时间 100515.tdms')\n",
    "tdms20190513_01_12 = TdmsFile(r'D:\\data\\20190513\\01\\Current&Volage 05-13-19 时间 100615.tdms')\n",
    "tdms20190513_01_13 = TdmsFile(r'D:\\data\\20190513\\01\\Current&Volage 05-13-19 时间 100715.tdms')\n",
    "tdms20190513_01_14 = TdmsFile(r'D:\\data\\20190513\\01\\Current&Volage 05-13-19 时间 100816.tdms')\n",
    "\n",
    "\n",
    "#set Tdms file path\n",
    "tdms20190513_13_01 = TdmsFile(r'D:\\data\\20190513\\13\\Acc 05-13-19 时间 195300.tdms')\n",
    "tdms20190513_13_11 = TdmsFile(r'D:\\data\\20190513\\13\\Current&Volage 05-13-19 时间 195300.tdms')"
   ]
  },
  {
   "cell_type": "markdown",
   "metadata": {},
   "source": [
    "## make class"
   ]
  },
  {
   "cell_type": "code",
   "execution_count": 3,
   "metadata": {},
   "outputs": [],
   "source": [
    "class TDMS_Vibration():\n",
    "    def __init__(self, tdmsfile):\n",
    "        self.tdmsfile = tdmsfile\n",
    "        group_name = 'Measured Data'\n",
    "        \n",
    "        channel_x_0 = tdmsfile.object(group_name, 'x_0')\n",
    "        channel_y_0 = tdmsfile.object(group_name, 'y_0')\n",
    "        channel_z_0 = tdmsfile.object(group_name, 'z_0')\n",
    "        channel_x_1 = tdmsfile.object(group_name, 'x_1')\n",
    "        channel_y_1 = tdmsfile.object(group_name, 'y_1')\n",
    "        channel_z_1 = tdmsfile.object(group_name, 'z_1')\n",
    "        \n",
    "        self.data_x_0 = channel_x_0.data\n",
    "        self.data_y_0 = channel_y_0.data\n",
    "        self.data_z_0 = channel_z_0.data\n",
    "        self.data_x_1 = channel_x_1.data\n",
    "        self.data_y_1 = channel_y_1.data\n",
    "        self.data_z_1 = channel_z_1.data\n",
    "        \n",
    "    def x_0(self):\n",
    "        return self.data_x_0\n",
    "    \n",
    "    def y_0(self):\n",
    "        return self.data_y_0\n",
    "    \n",
    "    def z_0(self):\n",
    "        return self.data_z_0\n",
    "    \n",
    "    def x_1(self):\n",
    "        return self.data_x_1\n",
    "    \n",
    "    def y_1(self):\n",
    "        return self.data_y_1\n",
    "\n",
    "    def z_1(self):\n",
    "        return self.data_z_1"
   ]
  },
  {
   "cell_type": "code",
   "execution_count": 4,
   "metadata": {},
   "outputs": [],
   "source": [
    "class TDMS_Power():\n",
    "    def __init__(self, tdmsfile):\n",
    "        self.tdmsfile = tdmsfile\n",
    "        group_name = 'Measured Data'\n",
    "        \n",
    "        channel_power = tdmsfile.object(group_name, 'Power')\n",
    "        self.data_power = channel_power.data\n",
    "\n",
    "        \n",
    "    def power(self):\n",
    "        return self.data_power"
   ]
  },
  {
   "cell_type": "markdown",
   "metadata": {},
   "source": [
    "## use bags to get data"
   ]
  },
  {
   "cell_type": "code",
   "execution_count": 5,
   "metadata": {},
   "outputs": [],
   "source": [
    "vibration_20190153_01_01 = TDMS_Vibration(tdms20190513_01_01)\n",
    "vibration_20190153_01_02 = TDMS_Vibration(tdms20190513_01_02)\n",
    "vibration_20190153_01_03 = TDMS_Vibration(tdms20190513_01_03)\n",
    "vibration_20190153_01_04 = TDMS_Vibration(tdms20190513_01_04)\n",
    "\n",
    "power_20190153_01_01 = TDMS_Power(tdms20190513_01_11)\n",
    "power_20190153_01_02 = TDMS_Power(tdms20190513_01_12)\n",
    "power_20190153_01_03 = TDMS_Power(tdms20190513_01_13)\n",
    "power_20190153_01_04 = TDMS_Power(tdms20190513_01_14)\n",
    "\n",
    "\n",
    "vibration_20190153_13 = TDMS_Vibration(tdms20190513_13_01)\n",
    "power_20190153_13 = TDMS_Power(tdms20190513_13_11)"
   ]
  },
  {
   "cell_type": "markdown",
   "metadata": {},
   "source": [
    "## use class"
   ]
  },
  {
   "cell_type": "code",
   "execution_count": 10,
   "metadata": {},
   "outputs": [],
   "source": [
    "vibration_20190153_01_x_0 = np.concatenate((vibration_20190153_01_01.x_0(), vibration_20190153_01_02.x_0(), vibration_20190153_01_03.x_0(), vibration_20190153_01_04.x_0()))\n",
    "vibration_20190153_01_y_0 = np.concatenate((vibration_20190153_01_01.y_0(), vibration_20190153_01_02.y_0(), vibration_20190153_01_03.y_0(), vibration_20190153_01_04.y_0()))\n",
    "vibration_20190153_01_z_0 = np.concatenate((vibration_20190153_01_01.z_0(), vibration_20190153_01_02.z_0(), vibration_20190153_01_03.z_0(), vibration_20190153_01_04.z_0()))\n",
    "\n",
    "vibration_20190153_01_x_1 = np.concatenate((vibration_20190153_01_01.x_1(), vibration_20190153_01_02.x_1(), vibration_20190153_01_03.x_1(), vibration_20190153_01_04.x_1()))\n",
    "vibration_20190153_01_y_1 = np.concatenate((vibration_20190153_01_01.y_1(), vibration_20190153_01_02.y_1(), vibration_20190153_01_03.y_1(), vibration_20190153_01_04.y_1()))\n",
    "vibration_20190153_01_z_1 = np.concatenate((vibration_20190153_01_01.z_1(), vibration_20190153_01_02.z_1(), vibration_20190153_01_03.z_1(), vibration_20190153_01_04.z_1()))\n",
    "\n",
    "power_20190153_01_power = np.concatenate((power_20190153_01_01.power(), power_20190153_01_02.power(), power_20190153_01_03.power(), power_20190153_01_04.power()))"
   ]
  },
  {
   "cell_type": "code",
   "execution_count": 7,
   "metadata": {},
   "outputs": [],
   "source": [
    "vibration_20190153_13_x_0 = vibration_20190153_13.x_0()\n",
    "vibration_20190153_13_y_0 = vibration_20190153_13.y_0()\n",
    "vibration_20190153_13_z_0 = vibration_20190153_13.z_0()\n",
    "\n",
    "vibration_20190153_13_x_1 = vibration_20190153_13.x_1()\n",
    "vibration_20190153_13_y_1 = vibration_20190153_13.y_1()\n",
    "vibration_20190153_13_z_1 = vibration_20190153_13.z_1()\n",
    "power_20190153_13_power = power_20190153_13.power()"
   ]
  },
  {
   "cell_type": "markdown",
   "metadata": {},
   "source": [
    "# Choose Data"
   ]
  },
  {
   "cell_type": "code",
   "execution_count": 12,
   "metadata": {},
   "outputs": [],
   "source": [
    "import matplotlib.pyplot as plt\n",
    "import matplotlib as mpl"
   ]
  },
  {
   "cell_type": "code",
   "execution_count": 13,
   "metadata": {},
   "outputs": [
    {
     "data": {
      "text/plain": [
       "(-0.1, 0.1)"
      ]
     },
     "execution_count": 13,
     "metadata": {},
     "output_type": "execute_result"
    },
    {
     "data": {
      "image/png": "[encoded data removed]",
      "text/plain": [
       "<Figure size 432x288 with 1 Axes>"
      ]
     },
     "metadata": {
      "needs_background": "light"
     },
     "output_type": "display_data"
    }
   ],
   "source": [
    "plt.plot(vibration_20190153_13_y_1)\n",
    "plt.plot(vibration_20190153_01_y_1)\n",
    "#plt.xlim(300000, 1300000)\n",
    "plt.ylim(-0.1, 0.1)"
   ]
  },
  {
   "cell_type": "code",
   "execution_count": 14,
   "metadata": {
    "scrolled": false
   },
   "outputs": [
    {
     "data": {
      "text/plain": [
       "(-0.1, 0.1)"
      ]
     },
     "execution_count": 14,
     "metadata": {},
     "output_type": "execute_result"
    },
    {
     "data": {
      "image/png": "[encoded data removed]",
      "text/plain": [
       "<Figure size 432x288 with 1 Axes>"
      ]
     },
     "metadata": {
      "needs_background": "light"
     },
     "output_type": "display_data"
    }
   ],
   "source": [
    "plt.plot(vibration_20190153_13_x_1)\n",
    "plt.plot(vibration_20190153_01_x_1)\n",
    "#plt.xlim(300000, 1300000)\n",
    "plt.ylim(-0.1, 0.1)"
   ]
  },
  {
   "cell_type": "markdown",
   "metadata": {},
   "source": [
    "# 主成分分析"
   ]
  },
  {
   "cell_type": "code",
   "execution_count": 16,
   "metadata": {},
   "outputs": [],
   "source": [
    "import pandas as pd"
   ]
  },
  {
   "cell_type": "code",
   "execution_count": 50,
   "metadata": {},
   "outputs": [],
   "source": [
    "x_0 = pd.DataFrame(vibration_20190153_01_x_0)\n",
    "y_0 = pd.DataFrame(vibration_20190153_01_y_0)\n",
    "z_0 = pd.DataFrame(vibration_20190153_01_z_0)\n",
    "x_1 = pd.DataFrame(vibration_20190153_01_x_1)\n",
    "y_1 = pd.DataFrame(vibration_20190153_01_y_1)\n",
    "z_1 = pd.DataFrame(vibration_20190153_01_z_1)"
   ]
  },
  {
   "cell_type": "code",
   "execution_count": 55,
   "metadata": {},
   "outputs": [],
   "source": [
    "vibration_20190153 = x_0\n",
    "vibration_20190153['y_0'] = y_0\n",
    "vibration_20190153['z_0'] = z_0\n",
    "vibration_20190153['x_1'] = x_1\n",
    "vibration_20190153['y_1'] = y_1\n",
    "vibration_20190153['z_1'] = z_1"
   ]
  },
  {
   "cell_type": "code",
   "execution_count": 46,
   "metadata": {},
   "outputs": [],
   "source": []
  },
  {
   "cell_type": "code",
   "execution_count": 52,
   "metadata": {},
   "outputs": [
    {
     "data": {
      "text/html": [
       "<div>\n",
       "<style scoped>\n",
       "    .dataframe tbody tr th:only-of-type {\n",
       "        vertical-align: middle;\n",
       "    }\n",
       "\n",
       "    .dataframe tbody tr th {\n",
       "        vertical-align: top;\n",
       "    }\n",
       "\n",
       "    .dataframe thead th {\n",
       "        text-align: right;\n",
       "    }\n",
       "</style>\n",
       "<table border=\"1\" class=\"dataframe\">\n",
       "  <thead>\n",
       "    <tr style=\"text-align: right;\">\n",
       "      <th></th>\n",
       "      <th>0</th>\n",
       "      <th>y_0</th>\n",
       "      <th>z_0</th>\n",
       "      <th>x_1</th>\n",
       "      <th>y_1</th>\n",
       "      <th>z_1</th>\n",
       "    </tr>\n",
       "  </thead>\n",
       "  <tbody>\n",
       "    <tr>\n",
       "      <th>0</th>\n",
       "      <td>7.578234</td>\n",
       "      <td>7.711310</td>\n",
       "      <td>7.311711</td>\n",
       "      <td>7.644880</td>\n",
       "      <td>7.753621</td>\n",
       "      <td>7.762029</td>\n",
       "    </tr>\n",
       "    <tr>\n",
       "      <th>1</th>\n",
       "      <td>7.593986</td>\n",
       "      <td>7.728390</td>\n",
       "      <td>7.327025</td>\n",
       "      <td>7.653715</td>\n",
       "      <td>7.763811</td>\n",
       "      <td>7.771143</td>\n",
       "    </tr>\n",
       "    <tr>\n",
       "      <th>2</th>\n",
       "      <td>7.576846</td>\n",
       "      <td>7.709562</td>\n",
       "      <td>7.310246</td>\n",
       "      <td>7.643603</td>\n",
       "      <td>7.751843</td>\n",
       "      <td>7.760439</td>\n",
       "    </tr>\n",
       "    <tr>\n",
       "      <th>3</th>\n",
       "      <td>7.591848</td>\n",
       "      <td>7.725984</td>\n",
       "      <td>7.325021</td>\n",
       "      <td>7.652279</td>\n",
       "      <td>7.762064</td>\n",
       "      <td>7.769583</td>\n",
       "    </tr>\n",
       "    <tr>\n",
       "      <th>4</th>\n",
       "      <td>7.585245</td>\n",
       "      <td>7.718007</td>\n",
       "      <td>7.318261</td>\n",
       "      <td>7.649380</td>\n",
       "      <td>7.757915</td>\n",
       "      <td>7.766407</td>\n",
       "    </tr>\n",
       "  </tbody>\n",
       "</table>\n",
       "</div>"
      ],
      "text/plain": [
       "          0       y_0       z_0       x_1       y_1       z_1\n",
       "0  7.578234  7.711310  7.311711  7.644880  7.753621  7.762029\n",
       "1  7.593986  7.728390  7.327025  7.653715  7.763811  7.771143\n",
       "2  7.576846  7.709562  7.310246  7.643603  7.751843  7.760439\n",
       "3  7.591848  7.725984  7.325021  7.652279  7.762064  7.769583\n",
       "4  7.585245  7.718007  7.318261  7.649380  7.757915  7.766407"
      ]
     },
     "execution_count": 52,
     "metadata": {},
     "output_type": "execute_result"
    }
   ],
   "source": [
    "vibration_20190153.head()"
   ]
  },
  {
   "cell_type": "markdown",
   "metadata": {},
   "source": [
    "## 机器学习包中导入主成分分析函数"
   ]
  },
  {
   "cell_type": "code",
   "execution_count": 81,
   "metadata": {},
   "outputs": [],
   "source": [
    "from sklearn.decomposition import PCA"
   ]
  },
  {
   "cell_type": "markdown",
   "metadata": {},
   "source": [
    "## 建立主成分，这里设主成分个数为2个，即n_components=2，其他参数为默认值。"
   ]
  },
  {
   "cell_type": "code",
   "execution_count": 82,
   "metadata": {},
   "outputs": [],
   "source": [
    "pca = PCA(n_components=2)"
   ]
  },
  {
   "cell_type": "markdown",
   "metadata": {},
   "source": [
    "## 训练模型，并得到主成分变量。"
   ]
  },
  {
   "cell_type": "code",
   "execution_count": 111,
   "metadata": {},
   "outputs": [],
   "source": [
    "v_0 = vibration_20190153[:178]"
   ]
  },
  {
   "cell_type": "code",
   "execution_count": 114,
   "metadata": {},
   "outputs": [],
   "source": [
    "v_p= pca.fit(v_0).transform(v_0)"
   ]
  },
  {
   "cell_type": "code",
   "execution_count": 115,
   "metadata": {},
   "outputs": [
    {
     "name": "stdout",
     "output_type": "stream",
     "text": [
      "(178, 6) (178, 2)\n"
     ]
    }
   ],
   "source": [
    "print(v_0.shape, v_p.shape)"
   ]
  },
  {
   "cell_type": "code",
   "execution_count": 116,
   "metadata": {},
   "outputs": [
    {
     "name": "stdout",
     "output_type": "stream",
     "text": [
      "各主成分贡献度:[9.99433230e-01 5.56371013e-04]\n"
     ]
    }
   ],
   "source": [
    "print('各主成分贡献度:{}'.format(pca.explained_variance_ratio_))"
   ]
  },
  {
   "cell_type": "code",
   "execution_count": 117,
   "metadata": {},
   "outputs": [
    {
     "name": "stderr",
     "output_type": "stream",
     "text": [
      "WARNING:matplotlib.legend:No handles with labels found to put in legend.\n"
     ]
    },
    {
     "data": {
      "text/plain": [
       "Text(0.5, 1.0, 'PCA of Vibration')"
      ]
     },
     "execution_count": 117,
     "metadata": {},
     "output_type": "execute_result"
    },
    {
     "data": {
      "image/png": "[encoded data removed]",
      "text/plain": [
       "<Figure size 432x288 with 1 Axes>"
      ]
     },
     "metadata": {
      "needs_background": "light"
     },
     "output_type": "display_data"
    }
   ],
   "source": [
    "plt.figure()\n",
    "\n",
    "plt.scatter(v_p[:, 0], v_p[:, 1], c=y, alpha=.8)\n",
    "\n",
    "plt.legend()\n",
    "\n",
    "plt.title('PCA of Vibration')"
   ]
  },
  {
   "cell_type": "code",
   "execution_count": 95,
   "metadata": {},
   "outputs": [],
   "source": [
    "x_p= pca.fit(x_0).transform(x_0)"
   ]
  },
  {
   "cell_type": "code",
   "execution_count": 96,
   "metadata": {},
   "outputs": [
    {
     "name": "stderr",
     "output_type": "stream",
     "text": [
      "WARNING:matplotlib.legend:No handles with labels found to put in legend.\n"
     ]
    },
    {
     "data": {
      "text/plain": [
       "Text(0.5, 1.0, 'PCA of x_0')"
      ]
     },
     "execution_count": 96,
     "metadata": {},
     "output_type": "execute_result"
    },
    {
     "data": {
      "image/png": "[encoded data removed]",
      "text/plain": [
       "<Figure size 432x288 with 1 Axes>"
      ]
     },
     "metadata": {
      "needs_background": "light"
     },
     "output_type": "display_data"
    }
   ],
   "source": [
    "plt.figure()\n",
    "\n",
    "plt.scatter(x_p[:, 0], x_p[:, 1],alpha=.8)\n",
    "\n",
    "plt.legend()\n",
    "\n",
    "plt.title('PCA of x_0')"
   ]
  },
  {
   "cell_type": "code",
   "execution_count": 76,
   "metadata": {},
   "outputs": [
    {
     "name": "stdout",
     "output_type": "stream",
     "text": [
      "(4230000, 2) (4230000, 6)\n"
     ]
    }
   ],
   "source": [
    "print(X_p.shape, x_0.shape)"
   ]
  },
  {
   "cell_type": "code",
   "execution_count": 77,
   "metadata": {},
   "outputs": [
    {
     "name": "stdout",
     "output_type": "stream",
     "text": [
      "各主成分贡献度:[0.58862416 0.23623892]\n",
      "各主成分贡献度:[0.58862416 0.23623892]\n"
     ]
    }
   ],
   "source": [
    "print('各主成分贡献度:{}'.format(pca.explained_variance_ratio_))\n",
    "print('各主成分贡献度:{}'.format(pca.explained_variance_ratio_))"
   ]
  },
  {
   "cell_type": "code",
   "execution_count": 78,
   "metadata": {},
   "outputs": [],
   "source": [
    "y_p= pca.fit(x_0).transform(y_0)"
   ]
  },
  {
   "cell_type": "code",
   "execution_count": 79,
   "metadata": {},
   "outputs": [
    {
     "name": "stdout",
     "output_type": "stream",
     "text": [
      "(4230000, 2) (4230000, 1)\n"
     ]
    }
   ],
   "source": [
    "print(y_p.shape, y_0.shape)"
   ]
  },
  {
   "cell_type": "code",
   "execution_count": 80,
   "metadata": {},
   "outputs": [
    {
     "name": "stdout",
     "output_type": "stream",
     "text": [
      "各主成分贡献度:[0.58862416 0.23623892]\n"
     ]
    }
   ],
   "source": [
    "print('各主成分贡献度:{}'.format(pca.explained_variance_ratio_))"
   ]
  },
  {
   "cell_type": "code",
   "execution_count": 97,
   "metadata": {},
   "outputs": [],
   "source": []
  },
  {
   "cell_type": "code",
   "execution_count": 100,
   "metadata": {},
   "outputs": [],
   "source": [
    "v_names = ['x_0', 'y_0', 'z_0', 'x_1', 'y_1', 'z_1']"
   ]
  },
  {
   "cell_type": "code",
   "execution_count": null,
   "metadata": {},
   "outputs": [],
   "source": []
  },
  {
   "cell_type": "code",
   "execution_count": null,
   "metadata": {},
   "outputs": [],
   "source": []
  },
  {
   "cell_type": "code",
   "execution_count": null,
   "metadata": {},
   "outputs": [],
   "source": []
  },
  {
   "cell_type": "markdown",
   "metadata": {},
   "source": [
    "## 例子"
   ]
  },
  {
   "cell_type": "code",
   "execution_count": 103,
   "metadata": {},
   "outputs": [],
   "source": [
    "from sklearn import datasets\n",
    "\n",
    "wine=datasets.load_wine()\n",
    "\n",
    "X=wine.data\n",
    "\n",
    "y=wine.target\n",
    "\n",
    "target_names=wine.target_names"
   ]
  },
  {
   "cell_type": "code",
   "execution_count": 104,
   "metadata": {},
   "outputs": [
    {
     "name": "stdout",
     "output_type": "stream",
     "text": [
      "(178, 13)\n",
      "(178, 2)\n"
     ]
    }
   ],
   "source": [
    "X_p= pca.fit(X).transform(X)\n",
    "\n",
    "print(X.shape)#原始变量维度\n",
    "\n",
    "print(X_p.shape)#主成分变量的维度"
   ]
  },
  {
   "cell_type": "code",
   "execution_count": 105,
   "metadata": {},
   "outputs": [
    {
     "name": "stdout",
     "output_type": "stream",
     "text": [
      "各主成分贡献度:[0.99809123 0.00173592]\n"
     ]
    }
   ],
   "source": [
    "print('各主成分贡献度:{}'.format(pca.explained_variance_ratio_))"
   ]
  },
  {
   "cell_type": "code",
   "execution_count": 106,
   "metadata": {},
   "outputs": [
    {
     "data": {
      "text/plain": [
       "Text(0.5, 1.0, 'PCA of Wine')"
      ]
     },
     "execution_count": 106,
     "metadata": {},
     "output_type": "execute_result"
    },
    {
     "data": {
      "image/png": "[encoded data removed]",
      "text/plain": [
       "<Figure size 432x288 with 1 Axes>"
      ]
     },
     "metadata": {
      "needs_background": "light"
     },
     "output_type": "display_data"
    }
   ],
   "source": [
    "plt.figure()\n",
    "\n",
    "plt.scatter(X_p[:, 0], X_p[:, 1], c=y,alpha=.8,label=target_names)\n",
    "\n",
    "plt.legend()\n",
    "\n",
    "plt.title('PCA of Wine')"
   ]
  },
  {
   "cell_type": "code",
   "execution_count": null,
   "metadata": {},
   "outputs": [],
   "source": []
  },
  {
   "cell_type": "code",
   "execution_count": null,
   "metadata": {},
   "outputs": [],
   "source": []
  }
 ],
 "metadata": {
  "kernelspec": {
   "display_name": "Python 3",
   "language": "python",
   "name": "python3"
  },
  "language_info": {
   "codemirror_mode": {
    "name": "ipython",
    "version": 3
   },
   "file_extension": ".py",
   "mimetype": "text/x-python",
   "name": "python",
   "nbconvert_exporter": "python",
   "pygments_lexer": "ipython3",
   "version": "3.7.3"
  },
  "toc": {
   "base_numbering": 1,
   "nav_menu": {},
   "number_sections": true,
   "sideBar": true,
   "skip_h1_title": false,
   "title_cell": "Table of Contents",
   "title_sidebar": "Contents",
   "toc_cell": false,
   "toc_position": {},
   "toc_section_display": true,
   "toc_window_display": true
  }
 },
 "nbformat": 4,
 "nbformat_minor": 2
}
