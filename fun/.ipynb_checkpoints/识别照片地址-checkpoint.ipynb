{
 "cells": [
  {
   "cell_type": "markdown",
   "metadata": {},
   "source": [
    "https://mp.weixin.qq.com/s/k0H6xFXOZDqLVvWouW9GAQ"
   ]
  },
  {
   "cell_type": "code",
   "execution_count": 26,
   "metadata": {},
   "outputs": [],
   "source": [
    "class A():\n",
    "    def __init__(self,data):\n",
    "        self.data = data\n",
    "        self.a = 0\n",
    "        self.b = 0\n",
    "        self.c = 0\n",
    "    def aaa(self):\n",
    "        self.a = 10+self.data\n",
    "        return self.a\n",
    "    def bbb(self):\n",
    "        self.b= self.a+self.a\n",
    "        return self.b\n",
    "    def ccc(self):\n",
    "        self.c = self.a+self.b\n",
    "        return self.c"
   ]
  },
  {
   "cell_type": "code",
   "execution_count": 33,
   "metadata": {},
   "outputs": [
    {
     "data": {
      "text/plain": [
       "0"
      ]
     },
     "execution_count": 33,
     "metadata": {},
     "output_type": "execute_result"
    }
   ],
   "source": [
    "A(1).aaa()\n",
    "A(1).bbb()"
   ]
  },
  {
   "cell_type": "code",
   "execution_count": 36,
   "metadata": {},
   "outputs": [],
   "source": [
    "import exifread"
   ]
  },
  {
   "cell_type": "code",
   "execution_count": 47,
   "metadata": {},
   "outputs": [],
   "source": [
    "import os\n",
    "import exifread\n",
    "from decimal import Decimal\n",
    "from position_utils import *\n",
    "import requests\n",
    "import json\n",
    "import datetime"
   ]
  },
  {
   "cell_type": "code",
   "execution_count": 147,
   "metadata": {},
   "outputs": [],
   "source": [
    "class Location(object):\n",
    "\n",
    "    def __init__(self, image_path):\n",
    "        self.img_path = image_path\n",
    "        self.api_key = \"9d3c1152e2c9b7d2e323d054dc0c52a6\"\n",
    "        self.url_get_position = 'https://restapi.amap.com/v3/geocode/regeo?key={}&location={}'\n",
    "\n",
    "    def run(self):\n",
    "        coordinate = self.__get_image_ability()#坐标\n",
    "        print(f'获取到经度、纬度是:{coordinate}')\n",
    "\n",
    "        if not coordinate:\n",
    "            return\n",
    "\n",
    "        address = self.__get_address(coordinate)# 根据经度和纬度，获取到详细地址\n",
    "\n",
    "        # 检验坐标值\n",
    "        # https://lbs.amap.com/console/show/picker\n",
    "        print(f'陈晨于{self.format_time}在{address}拍摄了这张照片')\n",
    "\n",
    "    def __get_address(self, location):\n",
    "        \"\"\"\n",
    "        根据坐标得到详细地址\n",
    "        :param location: 经纬度值\n",
    "        :return:\n",
    "        \"\"\"\n",
    "        resp = requests.get(self.url_get_position.format(self.api_key, location))\n",
    "        location_data = json.loads(resp.text)\n",
    "        address = location_data.get('regeocode').get('formatted_address')\n",
    "\n",
    "        return address\n",
    "\n",
    "    def __format_lati_long_data(self, data):\n",
    "        \"\"\"\n",
    "        对经度和纬度数据做处理，保留6位小数\n",
    "        :param data: 原始经度和纬度值\n",
    "        :return:\n",
    "        \"\"\"\n",
    "        # 删除左右括号和空格\n",
    "        data_list_tmp = str(data).replace('[', '').replace(']', '').split(',')\n",
    "        data_list = [data.strip() for data in data_list_tmp]\n",
    "\n",
    "        \n",
    "        data_tmp = data_list[-1].split('/')# 替换秒的值\n",
    "        data_sec = int(data_tmp[0]) / int(data_tmp[1]) / 3600# 秒的值\n",
    "        data_tmp = data_list[-2]# 替换分的值\n",
    "        data_minute = int(data_tmp) / 60# 分的值\n",
    "        data_degree = int(data_list[0])# 度的值\n",
    "\n",
    "        # 由于高德API只能识别到小数点后的6位\n",
    "        # 需要转换为浮点数，并保留为6位小数\n",
    "        result = \"%.6f\" % (data_degree + data_minute + data_sec)\n",
    "        return float(result)\n",
    "\n",
    "    def __get_image_ability(self):\n",
    "        \"\"\"\n",
    "        获取图片的属性值，包含：经纬度、拍摄时间等\n",
    "        :param picture_name:\n",
    "        :return:\n",
    "        \"\"\"\n",
    "        img_exif = exifread.process_file(open(self.img_path, 'rb'))# 利用exifread库，读取图片的属性\n",
    "\n",
    "        # 能够读取到属性\n",
    "        if img_exif:\n",
    "            \n",
    "            latitude_gps = img_exif['GPS GPSLatitude']# 纬度数\n",
    "            latitude_direction = img_exif['GPS GPSLatitudeRef']# N,S 南北纬方向\n",
    "            longitude_gps = img_exif['GPS GPSLongitude']# 经度数\n",
    "            longitude_direction = img_exif['GPS GPSLongitudeRef']# E,W 东西经方向\n",
    "            take_time = img_exif['EXIF DateTimeOriginal']# 拍摄时间\n",
    "\n",
    "            is_lie = self.judge_time_met(take_time)\n",
    "            \n",
    "            takeeeeee_time = str(take_time).split(\" \")[0].replace(\":\", \"-\")# 拍摄时间\n",
    "\n",
    "#            if is_lie:\n",
    "\n",
    "#                print('照片的拍摄时间是{}'.format(takeeeeee_time))\n",
    "#                return\n",
    "\n",
    "                \n",
    "            if latitude_gps and longitude_gps and take_time:# 纬度、经度、拍摄时间\n",
    "\n",
    "                \n",
    "                latitude = self.__format_lati_long_data(latitude_gps)# 对纬度、经度值原始值作进一步的处理\n",
    "                longitude = self.__format_lati_long_data(longitude_gps)# 对纬度、经度值原始值作进一步的处理\n",
    "\n",
    "                # print(f'{longitude},{latitude}')\n",
    "\n",
    "                location = wgs84togcj02(longitude, latitude)# 注意：gps的坐标在高德上逆编码不够精确，需要转换为火星坐标系\n",
    "\n",
    "                return f'{location[0]},{location[1]}'\n",
    "            else:\n",
    "                print(f'获取的图片数据属性不完整')\n",
    "                return ''\n",
    "        else:\n",
    "            print('抱歉，图片不是原图，没法获取到图片属性。')\n",
    "            return ''\n",
    "\n",
    "    def judge_time_met(self, take_time):\n",
    "        \"\"\"\n",
    "        通知拍摄时间判断女朋友是否撒谎\n",
    "        :param take_time:\n",
    "        :return:\n",
    "        \"\"\"\n",
    "        \n",
    "        format_time = str(take_time).split(\" \")[0].replace(\":\", \"-\")# 拍摄时间\n",
    "        self.format_time = format_time\n",
    "        \n",
    "        today = str(datetime.date.today())# 当天日期\n",
    "\n",
    "        if format_time == today:\n",
    "            return False\n",
    "        else:\n",
    "            return True"
   ]
  },
  {
   "cell_type": "code",
   "execution_count": 148,
   "metadata": {},
   "outputs": [
    {
     "name": "stdout",
     "output_type": "stream",
     "text": [
      "获取到经度、纬度是:118.24003381322925,25.494841366678727\n",
      "陈晨于2019-08-26在福建省泉州市德化县浔中镇浔北路8德化第一中学拍摄了这张照片\n"
     ]
    }
   ],
   "source": [
    "if __name__ == '__main__':\n",
    "    # 女朋友发过来的图片【原图】\n",
    "    location = Location(r'D:\\321.jpg')\n",
    "\n",
    "    # 找到女朋友的地理位置\n",
    "    location.run()"
   ]
  },
  {
   "cell_type": "code",
   "execution_count": 123,
   "metadata": {},
   "outputs": [
    {
     "data": {
      "text/plain": [
       "(0x0002) Ratio=[25, 29, 515817/10000] @ 1458"
      ]
     },
     "execution_count": 123,
     "metadata": {},
     "output_type": "execute_result"
    }
   ],
   "source": [
    "img_exif = exifread.process_file(open(r'D:\\321.jpg', 'rb'))# 利用exifread库，读取图片的属性\n",
    "latitude_gps = img_exif['GPS GPSLatitude']# 纬度数\n",
    "latitude_gps"
   ]
  },
  {
   "cell_type": "code",
   "execution_count": 119,
   "metadata": {},
   "outputs": [
    {
     "name": "stdout",
     "output_type": "stream",
     "text": [
      "获取到经度、纬度是:118.24279262103555,25.487639137166987\n",
      "陈晨当前位置在:福建省泉州市德化县龙浔镇隆中路12幢金龙·中心城(建设中)\n"
     ]
    }
   ],
   "source": [
    "if __name__ == '__main__':\n",
    "    # 女朋友发过来的图片【原图】\n",
    "    location = Location(r'D:\\123.jpg')\n",
    "\n",
    "    # 找到女朋友的地理位置\n",
    "    location.run()"
   ]
  },
  {
   "cell_type": "code",
   "execution_count": null,
   "metadata": {},
   "outputs": [],
   "source": []
  }
 ],
 "metadata": {
  "kernelspec": {
   "display_name": "Python 3",
   "language": "python",
   "name": "python3"
  },
  "language_info": {
   "codemirror_mode": {
    "name": "ipython",
    "version": 3
   },
   "file_extension": ".py",
   "mimetype": "text/x-python",
   "name": "python",
   "nbconvert_exporter": "python",
   "pygments_lexer": "ipython3",
   "version": "3.7.3"
  },
  "toc": {
   "base_numbering": 1,
   "nav_menu": {},
   "number_sections": true,
   "sideBar": true,
   "skip_h1_title": false,
   "title_cell": "Table of Contents",
   "title_sidebar": "Contents",
   "toc_cell": false,
   "toc_position": {},
   "toc_section_display": true,
   "toc_window_display": false
  }
 },
 "nbformat": 4,
 "nbformat_minor": 2
}
