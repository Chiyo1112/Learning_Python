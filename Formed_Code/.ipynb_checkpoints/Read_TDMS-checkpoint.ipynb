{
 "cells": [
  {
   "cell_type": "markdown",
   "metadata": {},
   "source": [
    "# read data"
   ]
  },
  {
   "cell_type": "code",
   "execution_count": null,
   "metadata": {},
   "outputs": [],
   "source": [
    "address_20190513_01 = r'D:\\data\\20190513\\01'\n",
    "\n",
    "name_vibration_20190513_01 = ['Acc 05-13-19 时间 100515.tdms',\n",
    "                        'Acc 05-13-19 时间 100615.tdms',\n",
    "                        'Acc 05-13-19 时间 100715.tdms',\n",
    "                        'Acc 05-13-19 时间 100816.tdms']\n",
    "name_power_20190513_01 = ['Current&Volage 05-13-19 时间 100515.tdms',\n",
    "                        'Current&Volage 05-13-19 时间 100615.tdms',\n",
    "                        'Current&Volage 05-13-19 时间 100715.tdms',\n",
    "                        'Current&Volage 05-13-19 时间 100816.tdms']"
   ]
  },
  {
   "cell_type": "markdown",
   "metadata": {},
   "source": [
    "# class TDMS_Vibrition_Merge()"
   ]
  },
  {
   "cell_type": "code",
   "execution_count": null,
   "metadata": {},
   "outputs": [],
   "source": [
    "class TDMS_Vibrition_Merge():\n",
    "    def __init__(self, file_address, file_name, group_name = 'Measured Data'):\n",
    "        self.file_address = file_address\n",
    "        self.file_name = file_name\n",
    "\n",
    "        n = 0\n",
    "        for i in file_name:\n",
    "            real_path = r\"{}\\{}\".format(file_address, file_name[n])\n",
    "            TDMS_read = TdmsFile(r'{}'.format(real_path))\n",
    "\n",
    "            channel_x_0 = TDMS_read.object(group_name, 'x_0')\n",
    "            channel_y_0 = TDMS_read.object(group_name, 'y_0')\n",
    "            channel_z_0 = TDMS_read.object(group_name, 'z_0')\n",
    "            channel_x_1 = TDMS_read.object(group_name, 'x_1')\n",
    "            channel_y_1 = TDMS_read.object(group_name, 'y_1')\n",
    "            channel_z_1 = TDMS_read.object(group_name, 'z_1')\n",
    "\n",
    "            getdata_x_0 = channel_x_0.data\n",
    "            getdata_y_0 = channel_y_0.data\n",
    "            getdata_z_0 = channel_z_0.data\n",
    "            getdata_x_1 = channel_x_1.data\n",
    "            getdata_y_1 = channel_y_1.data\n",
    "            getdata_z_1 = channel_z_1.data\n",
    "\n",
    "            if n == 0:\n",
    "                self.data_x_0 = getdata_x_0\n",
    "                self.data_y_0 = getdata_y_0\n",
    "                self.data_z_0 = getdata_z_0\n",
    "                self.data_x_1 = getdata_x_1\n",
    "                self.data_y_1 = getdata_y_1\n",
    "                self.data_z_1 = getdata_z_1\n",
    "\n",
    "            else:\n",
    "                self.data_x_0 = np.concatenate((self.data_x_0, getdata_x_0))\n",
    "                self.data_y_0 = np.concatenate((self.data_y_0, getdata_y_0))\n",
    "                self.data_z_0 = np.concatenate((self.data_z_0, getdata_z_0))\n",
    "                self.data_x_1 = np.concatenate((self.data_x_1, getdata_x_1))\n",
    "                self.data_y_1 = np.concatenate((self.data_y_1, getdata_y_1))\n",
    "                self.data_z_1 = np.concatenate((self.data_z_1, getdata_z_1))\n",
    "\n",
    "            n += 1\n",
    "            \n",
    "    def x_0(self):\n",
    "        return np.array(self.data_x_0)\n",
    "    \n",
    "    def y_0(self):\n",
    "        return np.array(self.data_y_0)\n",
    "    \n",
    "    def z_0(self):\n",
    "        return np.array(self.data_z_0)\n",
    "    \n",
    "    def x_1(self):\n",
    "        return np.array(self.data_x_1)\n",
    "    \n",
    "    def y_1(self):\n",
    "        return np.array(self.data_y_1)\n",
    "\n",
    "    def z_1(self):\n",
    "        return np.array(self.data_z_1)"
   ]
  }
 ],
 "metadata": {
  "kernelspec": {
   "display_name": "Python 3",
   "language": "python",
   "name": "python3"
  },
  "language_info": {
   "codemirror_mode": {
    "name": "ipython",
    "version": 3
   },
   "file_extension": ".py",
   "mimetype": "text/x-python",
   "name": "python",
   "nbconvert_exporter": "python",
   "pygments_lexer": "ipython3",
   "version": "3.7.3"
  },
  "toc": {
   "base_numbering": 1,
   "nav_menu": {},
   "number_sections": true,
   "sideBar": true,
   "skip_h1_title": false,
   "title_cell": "Table of Contents",
   "title_sidebar": "Contents",
   "toc_cell": false,
   "toc_position": {},
   "toc_section_display": true,
   "toc_window_display": true
  }
 },
 "nbformat": 4,
 "nbformat_minor": 2
}
