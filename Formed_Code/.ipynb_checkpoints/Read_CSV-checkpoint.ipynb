{
 "cells": [
  {
   "cell_type": "markdown",
   "metadata": {},
   "source": [
    "# Read .CSV"
   ]
  },
  {
   "cell_type": "code",
   "execution_count": 1,
   "metadata": {},
   "outputs": [],
   "source": [
    "import matplotlib as mpt\n",
    "from scipy.fftpack import fft,ifft\n",
    "import seaborn\n",
    "import csv\n",
    "import pandas as pd\n",
    "import numpy as np"
   ]
  },
  {
   "cell_type": "markdown",
   "metadata": {},
   "source": [
    "# read data"
   ]
  },
  {
   "cell_type": "code",
   "execution_count": null,
   "metadata": {},
   "outputs": [],
   "source": [
    "force_01 = pd.read_csv(r'D:\\data\\20190513\\Force\\20190513_01_new.csv')\n",
    "#force_02 = pd.read_csv(r'D:\\data\\20190513\\Force\\20190513_02_new.csv')\n",
    "#force_03 = pd.read_csv(r'D:\\data\\20190513\\Force\\20190513_03_new.csv')\n",
    "#force_04 = pd.read_csv(r'D:\\data\\20190513\\Force\\20190513_04_new.csv')\n",
    "#force_11 = pd.read_csv(r'D:\\data\\20190513\\Force\\20190513_11_new.csv')\n",
    "#force_12 = pd.read_csv(r'D:\\data\\20190513\\Force\\20190513_12_new.csv')\n",
    "#force_13 = pd.read_csv(r'D:\\data\\20190513\\Force\\20190513_13_new.csv')\n",
    "#force_21 = pd.read_csv(r'D:\\data\\20190513\\Force\\20190513_21_new.csv')\n",
    "#force_31 = pd.read_csv(r'D:\\data\\20190513\\Force\\20190513_31_new.csv')"
   ]
  }
 ],
 "metadata": {
  "kernelspec": {
   "display_name": "Python 3",
   "language": "python",
   "name": "python3"
  },
  "language_info": {
   "codemirror_mode": {
    "name": "ipython",
    "version": 3
   },
   "file_extension": ".py",
   "mimetype": "text/x-python",
   "name": "python",
   "nbconvert_exporter": "python",
   "pygments_lexer": "ipython3",
   "version": "3.7.3"
  },
  "toc": {
   "base_numbering": 1,
   "nav_menu": {},
   "number_sections": true,
   "sideBar": true,
   "skip_h1_title": false,
   "title_cell": "Table of Contents",
   "title_sidebar": "Contents",
   "toc_cell": false,
   "toc_position": {},
   "toc_section_display": true,
   "toc_window_display": false
  }
 },
 "nbformat": 4,
 "nbformat_minor": 2
}
