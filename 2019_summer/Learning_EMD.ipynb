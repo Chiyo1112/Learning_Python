{
 "cells": [
  {
   "cell_type": "markdown",
   "metadata": {},
   "source": [
    "# Prepare"
   ]
  },
  {
   "cell_type": "markdown",
   "metadata": {},
   "source": [
    "## import"
   ]
  },
  {
   "cell_type": "code",
   "execution_count": null,
   "metadata": {},
   "outputs": [],
   "source": [
    "from nptdms import TdmsFile\n",
    "import numpy as np\n",
    "import pandas as pd"
   ]
  },
  {
   "cell_type": "markdown",
   "metadata": {},
   "source": [
    "## set file path"
   ]
  },
  {
   "cell_type": "code",
   "execution_count": null,
   "metadata": {},
   "outputs": [],
   "source": [
    "#set Tdms file path\n",
    "tdms20190513_01_01 = TdmsFile(r'D:\\data\\20190513\\01\\Acc 05-13-19 时间 100515.tdms')\n",
    "tdms20190513_01_02 = TdmsFile(r'D:\\data\\20190513\\01\\Acc 05-13-19 时间 100615.tdms')\n",
    "tdms20190513_01_03 = TdmsFile(r'D:\\data\\20190513\\01\\Acc 05-13-19 时间 100715.tdms')\n",
    "tdms20190513_01_04 = TdmsFile(r'D:\\data\\20190513\\01\\Acc 05-13-19 时间 100816.tdms')\n",
    "\n",
    "tdms20190513_01_11 = TdmsFile(r'D:\\data\\20190513\\01\\Current&Volage 05-13-19 时间 100515.tdms')\n",
    "tdms20190513_01_12 = TdmsFile(r'D:\\data\\20190513\\01\\Current&Volage 05-13-19 时间 100615.tdms')\n",
    "tdms20190513_01_13 = TdmsFile(r'D:\\data\\20190513\\01\\Current&Volage 05-13-19 时间 100715.tdms')\n",
    "tdms20190513_01_14 = TdmsFile(r'D:\\data\\20190513\\01\\Current&Volage 05-13-19 时间 100816.tdms')\n",
    "\n",
    "\n",
    "#set Tdms file path\n",
    "tdms20190513_13_01 = TdmsFile(r'D:\\data\\20190513\\13\\Acc 05-13-19 时间 195300.tdms')\n",
    "tdms20190513_13_11 = TdmsFile(r'D:\\data\\20190513\\13\\Current&Volage 05-13-19 时间 195300.tdms')"
   ]
  },
  {
   "cell_type": "markdown",
   "metadata": {},
   "source": [
    "## make class"
   ]
  },
  {
   "cell_type": "code",
   "execution_count": null,
   "metadata": {},
   "outputs": [],
   "source": [
    "class TDMS_Vibration():\n",
    "    def __init__(self, tdmsfile):\n",
    "        self.tdmsfile = tdmsfile\n",
    "        group_name = 'Measured Data'\n",
    "        \n",
    "        channel_x_0 = tdmsfile.object(group_name, 'x_0')\n",
    "        channel_y_0 = tdmsfile.object(group_name, 'y_0')\n",
    "        channel_z_0 = tdmsfile.object(group_name, 'z_0')\n",
    "        channel_x_1 = tdmsfile.object(group_name, 'x_1')\n",
    "        channel_y_1 = tdmsfile.object(group_name, 'y_1')\n",
    "        channel_z_1 = tdmsfile.object(group_name, 'z_1')\n",
    "        \n",
    "        self.data_x_0 = channel_x_0.data\n",
    "        self.data_y_0 = channel_y_0.data\n",
    "        self.data_z_0 = channel_z_0.data\n",
    "        self.data_x_1 = channel_x_1.data\n",
    "        self.data_y_1 = channel_y_1.data\n",
    "        self.data_z_1 = channel_z_1.data\n",
    "        \n",
    "    def x_0(self):\n",
    "        return self.data_x_0\n",
    "    \n",
    "    def y_0(self):\n",
    "        return self.data_y_0\n",
    "    \n",
    "    def z_0(self):\n",
    "        return self.data_z_0\n",
    "    \n",
    "    def x_1(self):\n",
    "        return self.data_x_1\n",
    "    \n",
    "    def y_1(self):\n",
    "        return self.data_y_1\n",
    "\n",
    "    def z_1(self):\n",
    "        return self.data_z_1"
   ]
  },
  {
   "cell_type": "code",
   "execution_count": null,
   "metadata": {},
   "outputs": [],
   "source": [
    "class TDMS_Power():\n",
    "    def __init__(self, tdmsfile):\n",
    "        self.tdmsfile = tdmsfile\n",
    "        group_name = 'Measured Data'\n",
    "        \n",
    "        channel_power = tdmsfile.object(group_name, 'Power')\n",
    "        self.data_power = channel_power.data\n",
    "\n",
    "        \n",
    "    def power(self):\n",
    "        return self.data_power"
   ]
  },
  {
   "cell_type": "markdown",
   "metadata": {},
   "source": [
    "## use bags to get data"
   ]
  },
  {
   "cell_type": "code",
   "execution_count": null,
   "metadata": {},
   "outputs": [],
   "source": [
    "vibration_20190153_01_01 = TDMS_Vibration(tdms20190513_01_01)\n",
    "vibration_20190153_01_02 = TDMS_Vibration(tdms20190513_01_02)\n",
    "vibration_20190153_01_03 = TDMS_Vibration(tdms20190513_01_03)\n",
    "vibration_20190153_01_04 = TDMS_Vibration(tdms20190513_01_04)\n",
    "\n",
    "power_20190153_01_01 = TDMS_Power(tdms20190513_01_11)\n",
    "power_20190153_01_02 = TDMS_Power(tdms20190513_01_12)\n",
    "power_20190153_01_03 = TDMS_Power(tdms20190513_01_13)\n",
    "power_20190153_01_04 = TDMS_Power(tdms20190513_01_14)\n",
    "\n",
    "\n",
    "vibration_20190153_13 = TDMS_Vibration(tdms20190513_13_01)\n",
    "power_20190153_13 = TDMS_Power(tdms20190513_13_11)"
   ]
  },
  {
   "cell_type": "markdown",
   "metadata": {},
   "source": [
    "## use class"
   ]
  },
  {
   "cell_type": "code",
   "execution_count": null,
   "metadata": {},
   "outputs": [],
   "source": [
    "vibration_20190153_01_x_0 = np.concatenate((vibration_20190153_01_01.x_0(), vibration_20190153_01_02.x_0(), vibration_20190153_01_03.x_0(), vibration_20190153_01_04.x_0()))\n",
    "vibration_20190153_01_y_0 = np.concatenate((vibration_20190153_01_01.y_0(), vibration_20190153_01_02.y_0(), vibration_20190153_01_03.y_0(), vibration_20190153_01_04.y_0()))\n",
    "vibration_20190153_01_z_0 = np.concatenate((vibration_20190153_01_01.z_0(), vibration_20190153_01_02.z_0(), vibration_20190153_01_03.z_0(), vibration_20190153_01_04.z_0()))\n",
    "\n",
    "vibration_20190153_01_x_1 = np.concatenate((vibration_20190153_01_01.x_1(), vibration_20190153_01_02.x_1(), vibration_20190153_01_03.x_1(), vibration_20190153_01_04.x_1()))\n",
    "vibration_20190153_01_y_1 = np.concatenate((vibration_20190153_01_01.y_1(), vibration_20190153_01_02.y_1(), vibration_20190153_01_03.y_1(), vibration_20190153_01_04.y_1()))\n",
    "vibration_20190153_01_z_1 = np.concatenate((vibration_20190153_01_01.z_1(), vibration_20190153_01_02.z_1(), vibration_20190153_01_03.z_1(), vibration_20190153_01_04.z_1()))\n",
    "\n",
    "power_20190153_01_power = np.concatenate((power_20190153_01_01.power(), power_20190153_01_02.power(), power_20190153_01_03.power(), power_20190153_01_04.power()))"
   ]
  },
  {
   "cell_type": "code",
   "execution_count": null,
   "metadata": {},
   "outputs": [],
   "source": [
    "vibration_20190153_13_x_0 = vibration_20190153_13.x_0()\n",
    "vibration_20190153_13_y_0 = vibration_20190153_13.y_0()\n",
    "vibration_20190153_13_z_0 = vibration_20190153_13.z_0()\n",
    "\n",
    "vibration_20190153_13_x_1 = vibration_20190153_13.x_1()\n",
    "vibration_20190153_13_y_1 = vibration_20190153_13.y_1()\n",
    "vibration_20190153_13_z_1 = vibration_20190153_13.z_1()\n",
    "power_20190153_13_power = power_20190153_13.power()"
   ]
  },
  {
   "cell_type": "markdown",
   "metadata": {},
   "source": [
    "# Choose Data"
   ]
  },
  {
   "cell_type": "code",
   "execution_count": 8,
   "metadata": {},
   "outputs": [],
   "source": [
    "import matplotlib.pyplot as plt\n",
    "import matplotlib as mpl"
   ]
  },
  {
   "cell_type": "code",
   "execution_count": 9,
   "metadata": {},
   "outputs": [
    {
     "data": {
      "text/plain": [
       "(300000, 1300000)"
      ]
     },
     "execution_count": 9,
     "metadata": {},
     "output_type": "execute_result"
    },
    {
     "data": {
      "image/png": "[encoded data removed]",
      "text/plain": [
       "<Figure size 432x288 with 1 Axes>"
      ]
     },
     "metadata": {
      "needs_background": "light"
     },
     "output_type": "display_data"
    }
   ],
   "source": [
    "plt.plot(vibration_20190153_13_x_0)\n",
    "plt.xlim(300000, 1300000)"
   ]
  },
  {
   "cell_type": "code",
   "execution_count": null,
   "metadata": {},
   "outputs": [],
   "source": [
    "x_0_new = vibration_20190153_01_x_0[300000:310000]\n",
    "x_0_old = vibration_20190153_13_x_0[300000:310000]"
   ]
  },
  {
   "cell_type": "code",
   "execution_count": null,
   "metadata": {},
   "outputs": [],
   "source": []
  },
  {
   "cell_type": "markdown",
   "metadata": {},
   "source": [
    "# Do EMD"
   ]
  },
  {
   "cell_type": "code",
   "execution_count": 11,
   "metadata": {},
   "outputs": [],
   "source": [
    "import linecache\n",
    "import os\n",
    "from PyEMD import EEMD"
   ]
  },
  {
   "cell_type": "code",
   "execution_count": null,
   "metadata": {},
   "outputs": [],
   "source": [
    "t = np.linspace(0, 100, 100000)\n",
    "\n",
    "# Assign EEMD to `eemd` variable\n",
    "# 将EEMD分配给`eemd`变量\n",
    "eemd = EEMD()\n",
    "\n",
    "# Say we want detect extrema using parabolic method\n",
    "# 假设我们想要使用抛物线方法检测极值\n",
    "emd = eemd.EMD\n",
    "emd.extrema_detection=\"parabol\"\n",
    "\n",
    "# Execute EEMD on S\n",
    "# 在S上执行EEMD\n",
    "eIMFs = eemd.eemd(x_0_new, t)\n",
    "nIMFs = eIMFs.shape[0]"
   ]
  },
  {
   "cell_type": "code",
   "execution_count": null,
   "metadata": {},
   "outputs": [],
   "source": [
    "# Plot results\n",
    "plt.figure(figsize=(12,9))\n",
    "plt.subplot(nIMFs+1, 1, 1)\n",
    "plt.plot(t, x_0_new, 'r')\n",
    "\n",
    "for n in range(nIMFs):\n",
    "    plt.subplot(nIMFs+1, 1, n+2)\n",
    "    plt.plot(t, eIMFs[n], 'g')\n",
    "    plt.ylabel(\"eIMF %i\" %(n+1))\n",
    "    plt.locator_params(axis='y', nbins=5)\n",
    "\n",
    "plt.xlabel(\"Time [s]\")\n",
    "plt.tight_layout()\n",
    "plt.savefig('eemd_example', dpi=120)\n",
    "plt.show()"
   ]
  },
  {
   "cell_type": "code",
   "execution_count": null,
   "metadata": {},
   "outputs": [],
   "source": []
  },
  {
   "cell_type": "code",
   "execution_count": null,
   "metadata": {},
   "outputs": [],
   "source": []
  },
  {
   "cell_type": "code",
   "execution_count": null,
   "metadata": {},
   "outputs": [],
   "source": []
  },
  {
   "cell_type": "code",
   "execution_count": null,
   "metadata": {},
   "outputs": [],
   "source": []
  },
  {
   "cell_type": "code",
   "execution_count": null,
   "metadata": {},
   "outputs": [],
   "source": []
  }
 ],
 "metadata": {
  "kernelspec": {
   "display_name": "Python 3",
   "language": "python",
   "name": "python3"
  },
  "language_info": {
   "codemirror_mode": {
    "name": "ipython",
    "version": 3
   },
   "file_extension": ".py",
   "mimetype": "text/x-python",
   "name": "python",
   "nbconvert_exporter": "python",
   "pygments_lexer": "ipython3",
   "version": "3.7.3"
  },
  "toc": {
   "base_numbering": 1,
   "nav_menu": {},
   "number_sections": true,
   "sideBar": true,
   "skip_h1_title": false,
   "title_cell": "Table of Contents",
   "title_sidebar": "Contents",
   "toc_cell": false,
   "toc_position": {},
   "toc_section_display": true,
   "toc_window_display": true
  }
 },
 "nbformat": 4,
 "nbformat_minor": 2
}
