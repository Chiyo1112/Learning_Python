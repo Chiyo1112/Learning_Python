{
 "cells": [
  {
   "cell_type": "markdown",
   "metadata": {},
   "source": [
    "#### 显示小波族"
   ]
  },
  {
   "cell_type": "code",
   "execution_count": 4,
   "metadata": {},
   "outputs": [
    {
     "name": "stdout",
     "output_type": "stream",
     "text": [
      "['haar', 'db', 'sym', 'coif', 'bior', 'rbio', 'dmey', 'gaus', 'mexh', 'morl', 'cgau', 'shan', 'fbsp', 'cmor']\n"
     ]
    }
   ],
   "source": [
    " import pywt\n",
    "print (pywt.families())"
   ]
  },
  {
   "cell_type": "markdown",
   "metadata": {},
   "source": [
    "#### 显示小波族包含的小波名称"
   ]
  },
  {
   "cell_type": "code",
   "execution_count": 6,
   "metadata": {},
   "outputs": [
    {
     "name": "stdout",
     "output_type": "stream",
     "text": [
      "['coif1', 'coif2', 'coif3', 'coif4', 'coif5', 'coif6', 'coif7', 'coif8', 'coif9', 'coif10', 'coif11', 'coif12', 'coif13', 'coif14', 'coif15', 'coif16', 'coif17']\n"
     ]
    }
   ],
   "source": [
    "print (pywt.wavelist('coif'))"
   ]
  },
  {
   "cell_type": "markdown",
   "metadata": {},
   "source": [
    "#### 创建小波对象"
   ]
  },
  {
   "cell_type": "code",
   "execution_count": 9,
   "metadata": {
    "scrolled": true
   },
   "outputs": [
    {
     "name": "stdout",
     "output_type": "stream",
     "text": [
      "Wavelet db1\n",
      "  Family name:    Daubechies\n",
      "  Short name:     db\n",
      "  Filters length: 2\n",
      "  Orthogonal:     True\n",
      "  Biorthogonal:   True\n",
      "  Symmetry:       asymmetric\n",
      "  DWT:            True\n",
      "  CWT:            False\n"
     ]
    }
   ],
   "source": [
    "wavelet = pywt.Wavelet ('db1')\n",
    "print (wavelet)"
   ]
  },
  {
   "cell_type": "markdown",
   "metadata": {},
   "source": [
    "dec_lo,dec_hi：分解滤波器值"
   ]
  },
  {
   "cell_type": "code",
   "execution_count": 10,
   "metadata": {
    "scrolled": true
   },
   "outputs": [
    {
     "name": "stdout",
     "output_type": "stream",
     "text": [
      "[0.7071067811865476, 0.7071067811865476] [-0.7071067811865476, 0.7071067811865476]\n"
     ]
    }
   ],
   "source": [
    "print (wavelet.dec_lo, wavelet.dec_hi)"
   ]
  },
  {
   "cell_type": "markdown",
   "metadata": {},
   "source": [
    "rec_lo,rec_hi：重构滤波器值"
   ]
  },
  {
   "cell_type": "code",
   "execution_count": 11,
   "metadata": {},
   "outputs": [
    {
     "name": "stdout",
     "output_type": "stream",
     "text": [
      "[0.7071067811865476, 0.7071067811865476] [0.7071067811865476, -0.7071067811865476]\n"
     ]
    }
   ],
   "source": [
    "print (wavelet.rec_lo, wavelet.rec_hi)"
   ]
  },
  {
   "cell_type": "markdown",
   "metadata": {},
   "source": [
    "dec_len:\n",
    "\n",
    "    分解滤波器长度\n",
    "\n",
    "rec_len:\n",
    "\n",
    "    重构滤波器长度"
   ]
  },
  {
   "cell_type": "code",
   "execution_count": 15,
   "metadata": {},
   "outputs": [
    {
     "name": "stdout",
     "output_type": "stream",
     "text": [
      "2 2\n"
     ]
    }
   ],
   "source": [
    "print (wavelet.dec_len, wavelet.rec_len)"
   ]
  },
  {
   "cell_type": "markdown",
   "metadata": {},
   "source": [
    "#### wavefun()\n",
    "\n",
    "wavefun()方法可以在给定的分解阶次上依据小波系数近似给出尺度函数（phi）和小波函数（psi）。"
   ]
  },
  {
   "cell_type": "code",
   "execution_count": 19,
   "metadata": {},
   "outputs": [],
   "source": [
    "wavelet = pywt.Wavelet('db1')\n",
    "phi, psi, x = wavelet.wavefun(level=5)"
   ]
  },
  {
   "cell_type": "code",
   "execution_count": null,
   "metadata": {},
   "outputs": [],
   "source": []
  },
  {
   "cell_type": "code",
   "execution_count": 21,
   "metadata": {},
   "outputs": [
    {
     "data": {
      "image/png": "[encoded data removed]",
      "text/plain": [
       "<Figure size 720x432 with 9 Axes>"
      ]
     },
     "metadata": {
      "needs_background": "light"
     },
     "output_type": "display_data"
    }
   ],
   "source": [
    "import numpy as np\n",
    "from matplotlib import pyplot as plt\n",
    "from pywt._doc_utils import boundary_mode_subplot\n",
    "\n",
    "# synthetic test signal\n",
    "x = 5 - np.linspace(-1.9, 1.1, 9)**2\n",
    "\n",
    "# Create a figure with one subplots per boundary mode\n",
    "fig, axes = plt.subplots(3, 3, figsize=(10, 6))\n",
    "plt.subplots_adjust(hspace=0.5)\n",
    "axes = axes.ravel()\n",
    "boundary_mode_subplot(x, 'symmetric', axes[0], symw=False)\n",
    "boundary_mode_subplot(x, 'reflect', axes[1], symw=True)\n",
    "boundary_mode_subplot(x, 'periodic', axes[2], symw=False)\n",
    "boundary_mode_subplot(x, 'antisymmetric', axes[3], symw=False)\n",
    "boundary_mode_subplot(x, 'antireflect', axes[4], symw=True)\n",
    "boundary_mode_subplot(x, 'periodization', axes[5], symw=False)\n",
    "boundary_mode_subplot(x, 'smooth', axes[6], symw=False)\n",
    "boundary_mode_subplot(x, 'constant', axes[7], symw=False)\n",
    "boundary_mode_subplot(x, 'zeros', axes[8], symw=False)\n",
    "plt.show()"
   ]
  },
  {
   "cell_type": "code",
   "execution_count": null,
   "metadata": {},
   "outputs": [],
   "source": []
  },
  {
   "cell_type": "code",
   "execution_count": null,
   "metadata": {},
   "outputs": [],
   "source": []
  },
  {
   "cell_type": "code",
   "execution_count": null,
   "metadata": {},
   "outputs": [],
   "source": []
  }
 ],
 "metadata": {
  "kernelspec": {
   "display_name": "Python 3",
   "language": "python",
   "name": "python3"
  },
  "language_info": {
   "codemirror_mode": {
    "name": "ipython",
    "version": 3
   },
   "file_extension": ".py",
   "mimetype": "text/x-python",
   "name": "python",
   "nbconvert_exporter": "python",
   "pygments_lexer": "ipython3",
   "version": "3.7.3"
  },
  "toc": {
   "base_numbering": 1,
   "nav_menu": {},
   "number_sections": true,
   "sideBar": true,
   "skip_h1_title": false,
   "title_cell": "Table of Contents",
   "title_sidebar": "Contents",
   "toc_cell": false,
   "toc_position": {},
   "toc_section_display": true,
   "toc_window_display": true
  }
 },
 "nbformat": 4,
 "nbformat_minor": 2
}
